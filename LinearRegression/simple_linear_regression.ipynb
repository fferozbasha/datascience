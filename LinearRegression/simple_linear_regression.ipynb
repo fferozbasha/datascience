{
 "cells": [
  {
   "cell_type": "markdown",
   "metadata": {},
   "source": [
    "# Implementing Linear Regression without sklearn Library"
   ]
  },
  {
   "cell_type": "markdown",
   "metadata": {},
   "source": [
    "Objective of this notebook is to try understanding and implementing the Linear Regression (Single) without using the ML Libraries, so that we shall understand the underlying logics much clearly."
   ]
  },
  {
   "cell_type": "markdown",
   "metadata": {},
   "source": [
    "## Import Libraries"
   ]
  },
  {
   "cell_type": "code",
   "execution_count": 107,
   "metadata": {},
   "outputs": [],
   "source": [
    "import pandas as pd\n",
    "import numpy as np\n",
    "import matplotlib.pyplot as plt\n",
    "import math"
   ]
  },
  {
   "cell_type": "markdown",
   "metadata": {},
   "source": [
    "## Import Data"
   ]
  },
  {
   "cell_type": "markdown",
   "metadata": {},
   "source": [
    "The dataset contains a simulated linear relationship between the number of hours a student studies and the marks they obtain.\n",
    "Ref - https://www.kaggle.com/datasets/souradippal/simple-linear-regression-hours-vs-marks-data"
   ]
  },
  {
   "cell_type": "code",
   "execution_count": 108,
   "metadata": {},
   "outputs": [],
   "source": [
    "df = pd.read_csv(\"Rounded_Student_Hours_Studied_vs_Marks_Dataset.csv\")"
   ]
  },
  {
   "cell_type": "markdown",
   "metadata": {},
   "source": [
    "## Analyse the data"
   ]
  },
  {
   "cell_type": "code",
   "execution_count": 109,
   "metadata": {},
   "outputs": [
    {
     "data": {
      "text/html": [
       "<div>\n",
       "<style scoped>\n",
       "    .dataframe tbody tr th:only-of-type {\n",
       "        vertical-align: middle;\n",
       "    }\n",
       "\n",
       "    .dataframe tbody tr th {\n",
       "        vertical-align: top;\n",
       "    }\n",
       "\n",
       "    .dataframe thead th {\n",
       "        text-align: right;\n",
       "    }\n",
       "</style>\n",
       "<table border=\"1\" class=\"dataframe\">\n",
       "  <thead>\n",
       "    <tr style=\"text-align: right;\">\n",
       "      <th></th>\n",
       "      <th>Hours_Studied</th>\n",
       "      <th>Marks</th>\n",
       "    </tr>\n",
       "  </thead>\n",
       "  <tbody>\n",
       "    <tr>\n",
       "      <th>count</th>\n",
       "      <td>100.000000</td>\n",
       "      <td>100.000000</td>\n",
       "    </tr>\n",
       "    <tr>\n",
       "      <th>mean</th>\n",
       "      <td>5.376300</td>\n",
       "      <td>46.360200</td>\n",
       "    </tr>\n",
       "    <tr>\n",
       "      <th>std</th>\n",
       "      <td>2.593013</td>\n",
       "      <td>14.284805</td>\n",
       "    </tr>\n",
       "    <tr>\n",
       "      <th>min</th>\n",
       "      <td>1.050000</td>\n",
       "      <td>20.190000</td>\n",
       "    </tr>\n",
       "    <tr>\n",
       "      <th>25%</th>\n",
       "      <td>3.175000</td>\n",
       "      <td>33.675000</td>\n",
       "    </tr>\n",
       "    <tr>\n",
       "      <th>50%</th>\n",
       "      <td>5.565000</td>\n",
       "      <td>47.485000</td>\n",
       "    </tr>\n",
       "    <tr>\n",
       "      <th>75%</th>\n",
       "      <td>7.255000</td>\n",
       "      <td>57.377500</td>\n",
       "    </tr>\n",
       "    <tr>\n",
       "      <th>max</th>\n",
       "      <td>9.870000</td>\n",
       "      <td>73.260000</td>\n",
       "    </tr>\n",
       "  </tbody>\n",
       "</table>\n",
       "</div>"
      ],
      "text/plain": [
       "       Hours_Studied       Marks\n",
       "count     100.000000  100.000000\n",
       "mean        5.376300   46.360200\n",
       "std         2.593013   14.284805\n",
       "min         1.050000   20.190000\n",
       "25%         3.175000   33.675000\n",
       "50%         5.565000   47.485000\n",
       "75%         7.255000   57.377500\n",
       "max         9.870000   73.260000"
      ]
     },
     "execution_count": 109,
     "metadata": {},
     "output_type": "execute_result"
    }
   ],
   "source": [
    "df.describe()"
   ]
  },
  {
   "cell_type": "code",
   "execution_count": 110,
   "metadata": {},
   "outputs": [],
   "source": [
    "X = df.iloc[:, 0].values\n",
    "y = df.iloc[:, -1].values"
   ]
  },
  {
   "cell_type": "code",
   "execution_count": 111,
   "metadata": {},
   "outputs": [
    {
     "name": "stdout",
     "output_type": "stream",
     "text": [
      "X Shape is (100,) and y shape is (100,)\n"
     ]
    }
   ],
   "source": [
    "print(f\"X Shape is {X_series.shape} and y shape is {y_series.shape}\")"
   ]
  },
  {
   "cell_type": "markdown",
   "metadata": {},
   "source": [
    "## Splitting data for Training and Testing"
   ]
  },
  {
   "cell_type": "markdown",
   "metadata": {},
   "source": [
    "Splitting the training and test data without using the sklearn model_selection library. "
   ]
  },
  {
   "cell_type": "code",
   "execution_count": 113,
   "metadata": {},
   "outputs": [],
   "source": [
    "total_data_points = X.shape[0]"
   ]
  },
  {
   "cell_type": "markdown",
   "metadata": {},
   "source": [
    "Taking 80% of the data in to training and rest for testing purpose"
   ]
  },
  {
   "cell_type": "code",
   "execution_count": 114,
   "metadata": {},
   "outputs": [],
   "source": [
    "train_test_split_ratio = int(math.ceil(0.8 * total_data_points))"
   ]
  },
  {
   "cell_type": "code",
   "execution_count": 115,
   "metadata": {},
   "outputs": [],
   "source": [
    "X_train = X[0:train_test_split_ratio,]\n",
    "y_train = y[0:train_test_split_ratio,]\n",
    "X_test = X[train_test_split_ratio:, ]\n",
    "y_test = y[train_test_split_ratio:, ]"
   ]
  },
  {
   "cell_type": "code",
   "execution_count": 116,
   "metadata": {},
   "outputs": [
    {
     "name": "stdout",
     "output_type": "stream",
     "text": [
      "Size of training X=(80,) and y=(80,)\n",
      "Size of test X=(20,) and y=(20,)\n"
     ]
    }
   ],
   "source": [
    "print(f\"Size of training X={X_train.shape} and y={y_train.shape}\")\n",
    "print(f\"Size of test X={X_test.shape} and y={y_test.shape}\")"
   ]
  },
  {
   "cell_type": "markdown",
   "metadata": {},
   "source": [
    "## Implement Linear regression methods"
   ]
  },
  {
   "cell_type": "markdown",
   "metadata": {},
   "source": [
    "### Method to calculate the linear equation formula"
   ]
  },
  {
   "cell_type": "code",
   "execution_count": 117,
   "metadata": {},
   "outputs": [],
   "source": [
    "def calculate_linear_eq(w, b, x):\n",
    "    '''\n",
    "    Calculates the predicted output based on the coefficient and intercept for the input x variable. \n",
    "    w and b are the parameters for the linear equation\n",
    "    x - single input variable (can be single value or can be an array in case of multiple variable linear regression\n",
    "    '''\n",
    "    return w*x + b"
   ]
  },
  {
   "cell_type": "markdown",
   "metadata": {},
   "source": [
    "### Method to calculate of cost of each predicted output"
   ]
  },
  {
   "cell_type": "code",
   "execution_count": 118,
   "metadata": {},
   "outputs": [],
   "source": [
    "def calculate_cost(y_predicted, y_actual):\n",
    "    '''\n",
    "    Cost of each predicted variable is the difference between the predicted value and the actual output\n",
    "    Square of the same is returned.\n",
    "    '''\n",
    "    return (y_predicted - y_actual) ** 2"
   ]
  },
  {
   "cell_type": "markdown",
   "metadata": {},
   "source": [
    "### Method to calculate the total cost"
   ]
  },
  {
   "cell_type": "code",
   "execution_count": 120,
   "metadata": {},
   "outputs": [],
   "source": [
    "def compute_total_cost(w, b, X, y):\n",
    "    '''\n",
    "    w and b are the parameters of linear regression\n",
    "    X - input feature variable\n",
    "    y - actual output value, to be used to compare against the predicted value and use the same to calculate the cost\n",
    "    '''\n",
    "    total_cost = 0 #initializing the initial cost value\n",
    "    \n",
    "    for i in range(X.shape[0]): # iterates for each input training data\n",
    "        y_predicted = calculate_linear_eq(w, b, X[i]) # determines the predicted output variable\n",
    "        cost = calculate_cost(y_predicted, y[i]) # calculates cost based on the predicted value and the actual value\n",
    "        total_cost = total_cost + cost\n",
    "    \n",
    "    total_cost = total_cost / X.shape[0]\n",
    "    \n",
    "    return total_cost\n",
    "    \n",
    "    "
   ]
  },
  {
   "cell_type": "markdown",
   "metadata": {},
   "source": [
    "### Method to calculate the derivatives for w and b with respect to the cost"
   ]
  },
  {
   "cell_type": "code",
   "execution_count": 121,
   "metadata": {},
   "outputs": [],
   "source": [
    "def compute_gradient_derivatives(w, b, X, y):\n",
    "    '''\n",
    "    Method calculates the derivatives which will be used while implementing Gradient descent to \n",
    "    identify the best coefficient and intercept. \n",
    "    '''\n",
    "    total_data_points = X.shape[0]\n",
    "    derivative_w = 0\n",
    "    derivative_b = 0\n",
    "    \n",
    "    for i in range(total_data_points):\n",
    "        y_predicted = calculate_linear_eq(w, b, X[i])\n",
    "        cost = calculate_cost(y_predicted, y[i])\n",
    "        derivative_w = derivative_w + ((y_predicted - y[i]) * X[i])\n",
    "        derivative_b = derivative_b + (y_predicted - y[i])\n",
    "                                       \n",
    "    derivative_w = derivative_w / total_data_points\n",
    "    derivative_b = derivative_b / total_data_points\n",
    "    \n",
    "    return derivative_w, derivative_b\n",
    "                                       "
   ]
  },
  {
   "cell_type": "markdown",
   "metadata": {},
   "source": [
    "### Method to determine the best fit line (w and b)"
   ]
  },
  {
   "cell_type": "code",
   "execution_count": 125,
   "metadata": {},
   "outputs": [],
   "source": [
    "def fit_model(w, b, alpha, X, y, iterations):\n",
    "    '''\n",
    "    Method to determine the best coefficient and intercept by using gradient descent algorithm.\n",
    "    After each iteration, the cost is expected to reduce. \n",
    "    When the difference in cost is less than 0.5, it is assumed that the convergence is reached\n",
    "    and the iteration terminates. \n",
    "    '''\n",
    "    cost_history = [] # array to store the cost for each iteration\n",
    "    \n",
    "    # temporary variable which shall be compared against the current iteration \n",
    "    #cost to determine if further iteration is required or not.\n",
    "    prev_cost = None \n",
    "    \n",
    "    for iter in range(iterations):\n",
    "        cost = compute_total_cost(w, b, X, y)\n",
    "        \n",
    "        if prev_cost and (prev_cost - cost < 0.5):\n",
    "            break\n",
    "        \n",
    "        prev_cost = cost\n",
    "        \n",
    "        cost_history.append(cost)\n",
    "        derivative_w, derivative_b = compute_gradient_derivatives(w, b, X, y)\n",
    "        \n",
    "        w = w - alpha * derivative_w\n",
    "        b = b - alpha * derivative_b\n",
    "        \n",
    "    return w, b, cost_history, iter\n",
    "        "
   ]
  },
  {
   "cell_type": "markdown",
   "metadata": {},
   "source": [
    "### Viewing the data to see how the data is distributed"
   ]
  },
  {
   "cell_type": "markdown",
   "metadata": {},
   "source": [
    "Before implementing the model, lets take a look at how the data looks by plotting a scatter chart"
   ]
  },
  {
   "cell_type": "code",
   "execution_count": 72,
   "metadata": {},
   "outputs": [
    {
     "data": {
      "image/png": "[encoded data removed]",
      "text/plain": [
       "<Figure size 432x288 with 1 Axes>"
      ]
     },
     "metadata": {
      "needs_background": "light"
     },
     "output_type": "display_data"
    }
   ],
   "source": [
    "plt.scatter(X, y, marker='x')\n",
    "plt.show()"
   ]
  },
  {
   "cell_type": "markdown",
   "metadata": {},
   "source": [
    "Can see that the data seems to be a perfect fit for Linear regression."
   ]
  },
  {
   "cell_type": "markdown",
   "metadata": {},
   "source": [
    "### Visualizing the line with some random w and b value"
   ]
  },
  {
   "cell_type": "markdown",
   "metadata": {},
   "source": [
    "Lets plot a sample prediction line using a random coefficient and intercept"
   ]
  },
  {
   "cell_type": "code",
   "execution_count": 123,
   "metadata": {},
   "outputs": [
    {
     "data": {
      "image/png": "[encoded data removed]",
      "text/plain": [
       "<Figure size 432x288 with 1 Axes>"
      ]
     },
     "metadata": {
      "needs_background": "light"
     },
     "output_type": "display_data"
    }
   ],
   "source": [
    "w = 0.5\n",
    "b = 20\n",
    "\n",
    "y_pred = []\n",
    "for i in range(X_train.shape[0]):\n",
    "    y_pred.append(calculate_linear_eq(w, b, X_train[i]))\n",
    "\n",
    "plt.scatter(X, y, marker='x')\n",
    "plt.plot(X_train, y_pred, color='red')\n",
    "plt.show()"
   ]
  },
  {
   "cell_type": "markdown",
   "metadata": {},
   "source": [
    "Can see that this does NOT seem to be a good fit line"
   ]
  },
  {
   "cell_type": "markdown",
   "metadata": {},
   "source": [
    "### Determine the best fit line"
   ]
  },
  {
   "cell_type": "markdown",
   "metadata": {},
   "source": [
    "- Calling the fit_model method to identify the best coefficient and intercept. \n",
    "- We shall pass the w and b with any random values. \n",
    "- alpha = learning rate - rate at which the descent has to be calculated. \n",
    "- iterations = total maximum number of iterations to run while calculating the best fit model"
   ]
  },
  {
   "cell_type": "code",
   "execution_count": 126,
   "metadata": {},
   "outputs": [],
   "source": [
    "w, b , cost_history, iter = fit_model(w=-100, b=0.03, alpha=0.01, X=X_train, y=y_train, iterations=1000)"
   ]
  },
  {
   "cell_type": "code",
   "execution_count": 127,
   "metadata": {},
   "outputs": [
    {
     "name": "stdout",
     "output_type": "stream",
     "text": [
      "Best determined w = 5.423113510901548, b=16.17025105057246 with iterations = 16\n"
     ]
    }
   ],
   "source": [
    "print(f\"Best determined w = {w}, b={b} with iterations = {iter}\")"
   ]
  },
  {
   "cell_type": "markdown",
   "metadata": {},
   "source": [
    "Seems like the initial w and b were good enough as the best fit model is identified in 16 iterations itself. "
   ]
  },
  {
   "cell_type": "markdown",
   "metadata": {},
   "source": [
    "### Now that the best fit coefficient and intercept is determined, lets try to fit the model again."
   ]
  },
  {
   "cell_type": "code",
   "execution_count": 128,
   "metadata": {},
   "outputs": [
    {
     "data": {
      "image/png": "[encoded data removed]",
      "text/plain": [
       "<Figure size 432x288 with 1 Axes>"
      ]
     },
     "metadata": {
      "needs_background": "light"
     },
     "output_type": "display_data"
    }
   ],
   "source": [
    "y_pred = []\n",
    "for i in range(X_train.shape[0]):\n",
    "    y_pred.append(calculate_linear_eq(w, b, X_train[i]))\n",
    "\n",
    "plt.scatter(X, y, marker='x')\n",
    "plt.plot(X_train, y_pred, color='red')\n",
    "plt.show()"
   ]
  },
  {
   "cell_type": "markdown",
   "metadata": {},
   "source": [
    "### Seems to be a very good fit. Shall try to see how the cost reduced with the iterations"
   ]
  },
  {
   "cell_type": "code",
   "execution_count": 129,
   "metadata": {},
   "outputs": [
    {
     "data": {
      "image/png": "[encoded data removed]",
      "text/plain": [
       "<Figure size 432x288 with 1 Axes>"
      ]
     },
     "metadata": {
      "needs_background": "light"
     },
     "output_type": "display_data"
    }
   ],
   "source": [
    "iterations = np.arange(1, len(cost_history)+1).tolist()\n",
    "plt.plot(iterations, cost_history, color='blue', marker='o')\n",
    "plt.show()"
   ]
  },
  {
   "cell_type": "markdown",
   "metadata": {},
   "source": [
    "Can see that the best fit model is almost reached after 6th iteration itself. But took till 16 iterations to find the more better fit. "
   ]
  },
  {
   "cell_type": "markdown",
   "metadata": {},
   "source": [
    "### Time to test the model with the test data"
   ]
  },
  {
   "cell_type": "markdown",
   "metadata": {},
   "source": [
    "Running prediction with the X_test data"
   ]
  },
  {
   "cell_type": "code",
   "execution_count": 130,
   "metadata": {},
   "outputs": [],
   "source": [
    "y_test_predicted = []\n",
    "for i in range(X_test.shape[0]):\n",
    "    y_test_predicted.append(calculate_linear_eq(w, b, X_test[i]))"
   ]
  },
  {
   "cell_type": "markdown",
   "metadata": {},
   "source": [
    "#### Plotting graph to see how the prediction "
   ]
  },
  {
   "cell_type": "markdown",
   "metadata": {},
   "source": [
    "plt.scatter(X_test, y_test, marker='x')\n",
    "plt.plot(X_test, y_test_predicted, color='red')\n",
    "plt.show()"
   ]
  },
  {
   "cell_type": "markdown",
   "metadata": {},
   "source": [
    "Table below to list the predicted and actual value"
   ]
  },
  {
   "cell_type": "code",
   "execution_count": 133,
   "metadata": {},
   "outputs": [
    {
     "data": {
      "text/html": [
       "<div>\n",
       "<style scoped>\n",
       "    .dataframe tbody tr th:only-of-type {\n",
       "        vertical-align: middle;\n",
       "    }\n",
       "\n",
       "    .dataframe tbody tr th {\n",
       "        vertical-align: top;\n",
       "    }\n",
       "\n",
       "    .dataframe thead th {\n",
       "        text-align: right;\n",
       "    }\n",
       "</style>\n",
       "<table border=\"1\" class=\"dataframe\">\n",
       "  <thead>\n",
       "    <tr style=\"text-align: right;\">\n",
       "      <th></th>\n",
       "      <th>Hours studied</th>\n",
       "      <th>Acutal Score</th>\n",
       "      <th>Predicted Score</th>\n",
       "    </tr>\n",
       "  </thead>\n",
       "  <tbody>\n",
       "    <tr>\n",
       "      <th>0</th>\n",
       "      <td>5.94</td>\n",
       "      <td>48.59</td>\n",
       "      <td>48.383545</td>\n",
       "    </tr>\n",
       "    <tr>\n",
       "      <th>1</th>\n",
       "      <td>7.23</td>\n",
       "      <td>57.92</td>\n",
       "      <td>55.379362</td>\n",
       "    </tr>\n",
       "    <tr>\n",
       "      <th>2</th>\n",
       "      <td>6.87</td>\n",
       "      <td>61.73</td>\n",
       "      <td>53.427041</td>\n",
       "    </tr>\n",
       "    <tr>\n",
       "      <th>3</th>\n",
       "      <td>3.02</td>\n",
       "      <td>32.50</td>\n",
       "      <td>32.548054</td>\n",
       "    </tr>\n",
       "    <tr>\n",
       "      <th>4</th>\n",
       "      <td>7.41</td>\n",
       "      <td>53.01</td>\n",
       "      <td>56.355522</td>\n",
       "    </tr>\n",
       "    <tr>\n",
       "      <th>5</th>\n",
       "      <td>3.14</td>\n",
       "      <td>33.17</td>\n",
       "      <td>33.198827</td>\n",
       "    </tr>\n",
       "    <tr>\n",
       "      <th>6</th>\n",
       "      <td>3.93</td>\n",
       "      <td>44.22</td>\n",
       "      <td>37.483087</td>\n",
       "    </tr>\n",
       "    <tr>\n",
       "      <th>7</th>\n",
       "      <td>7.72</td>\n",
       "      <td>60.24</td>\n",
       "      <td>58.036687</td>\n",
       "    </tr>\n",
       "    <tr>\n",
       "      <th>8</th>\n",
       "      <td>6.85</td>\n",
       "      <td>51.58</td>\n",
       "      <td>53.318579</td>\n",
       "    </tr>\n",
       "    <tr>\n",
       "      <th>9</th>\n",
       "      <td>8.64</td>\n",
       "      <td>65.78</td>\n",
       "      <td>63.025952</td>\n",
       "    </tr>\n",
       "    <tr>\n",
       "      <th>10</th>\n",
       "      <td>6.92</td>\n",
       "      <td>55.08</td>\n",
       "      <td>53.698197</td>\n",
       "    </tr>\n",
       "    <tr>\n",
       "      <th>11</th>\n",
       "      <td>6.11</td>\n",
       "      <td>55.42</td>\n",
       "      <td>49.305475</td>\n",
       "    </tr>\n",
       "    <tr>\n",
       "      <th>12</th>\n",
       "      <td>1.84</td>\n",
       "      <td>25.71</td>\n",
       "      <td>26.148780</td>\n",
       "    </tr>\n",
       "    <tr>\n",
       "      <th>13</th>\n",
       "      <td>4.31</td>\n",
       "      <td>39.91</td>\n",
       "      <td>39.543870</td>\n",
       "    </tr>\n",
       "    <tr>\n",
       "      <th>14</th>\n",
       "      <td>3.39</td>\n",
       "      <td>34.97</td>\n",
       "      <td>34.554606</td>\n",
       "    </tr>\n",
       "    <tr>\n",
       "      <th>15</th>\n",
       "      <td>3.20</td>\n",
       "      <td>28.66</td>\n",
       "      <td>33.524214</td>\n",
       "    </tr>\n",
       "    <tr>\n",
       "      <th>16</th>\n",
       "      <td>9.76</td>\n",
       "      <td>70.27</td>\n",
       "      <td>69.099839</td>\n",
       "    </tr>\n",
       "    <tr>\n",
       "      <th>17</th>\n",
       "      <td>4.54</td>\n",
       "      <td>43.99</td>\n",
       "      <td>40.791186</td>\n",
       "    </tr>\n",
       "    <tr>\n",
       "      <th>18</th>\n",
       "      <td>9.03</td>\n",
       "      <td>65.17</td>\n",
       "      <td>65.140966</td>\n",
       "    </tr>\n",
       "    <tr>\n",
       "      <th>19</th>\n",
       "      <td>6.68</td>\n",
       "      <td>52.23</td>\n",
       "      <td>52.396649</td>\n",
       "    </tr>\n",
       "  </tbody>\n",
       "</table>\n",
       "</div>"
      ],
      "text/plain": [
       "    Hours studied  Acutal Score  Predicted Score\n",
       "0            5.94         48.59        48.383545\n",
       "1            7.23         57.92        55.379362\n",
       "2            6.87         61.73        53.427041\n",
       "3            3.02         32.50        32.548054\n",
       "4            7.41         53.01        56.355522\n",
       "5            3.14         33.17        33.198827\n",
       "6            3.93         44.22        37.483087\n",
       "7            7.72         60.24        58.036687\n",
       "8            6.85         51.58        53.318579\n",
       "9            8.64         65.78        63.025952\n",
       "10           6.92         55.08        53.698197\n",
       "11           6.11         55.42        49.305475\n",
       "12           1.84         25.71        26.148780\n",
       "13           4.31         39.91        39.543870\n",
       "14           3.39         34.97        34.554606\n",
       "15           3.20         28.66        33.524214\n",
       "16           9.76         70.27        69.099839\n",
       "17           4.54         43.99        40.791186\n",
       "18           9.03         65.17        65.140966\n",
       "19           6.68         52.23        52.396649"
      ]
     },
     "execution_count": 133,
     "metadata": {},
     "output_type": "execute_result"
    }
   ],
   "source": [
    "predictions = pd.DataFrame({'Hours studied': X_test, 'Acutal Score': y_test, 'Predicted Score': y_test_predicted})\n",
    "predictions         "
   ]
  },
  {
   "cell_type": "markdown",
   "metadata": {},
   "source": [
    "### Calculating the R2 (Accuracy) score for the model"
   ]
  },
  {
   "cell_type": "markdown",
   "metadata": {},
   "source": [
    "Formula to calculate the R Squared is - \n",
    "1 - (Residual Sum of Squares / Total Sum of Squares)\n",
    "\n",
    "Residual Sum of Squares = (Actual_Y - Predicted_Y) ** 2\n",
    "Total Sum of Squares = (Actual_Y - Mean_Y) ** 2"
   ]
  },
  {
   "cell_type": "code",
   "execution_count": 134,
   "metadata": {},
   "outputs": [],
   "source": [
    "ss_res = np.sum((y_test - y_test_predicted) ** 2)"
   ]
  },
  {
   "cell_type": "code",
   "execution_count": 135,
   "metadata": {},
   "outputs": [],
   "source": [
    "ss_tot = np.sum((y_test - np.mean(y_test)) ** 2)"
   ]
  },
  {
   "cell_type": "code",
   "execution_count": 136,
   "metadata": {},
   "outputs": [
    {
     "name": "stdout",
     "output_type": "stream",
     "text": [
      "r_squared calculated out of the manual model fit = 0.9321715265297414\n"
     ]
    }
   ],
   "source": [
    "r_squared = 1 - (ss_res / ss_tot)\n",
    "print(f\"r_squared calculated out of the manual model fit = {r_squared}\")"
   ]
  },
  {
   "cell_type": "markdown",
   "metadata": {},
   "source": [
    "# Lets try fitting model for same data using sklearn Library"
   ]
  },
  {
   "cell_type": "code",
   "execution_count": 137,
   "metadata": {},
   "outputs": [],
   "source": [
    "from sklearn.linear_model import LinearRegression\n",
    "from sklearn.model_selection import train_test_split"
   ]
  },
  {
   "cell_type": "code",
   "execution_count": 138,
   "metadata": {},
   "outputs": [],
   "source": [
    "dataset = pd.read_csv('Rounded_Student_Hours_Studied_vs_Marks_Dataset.csv')\n",
    "X = dataset.iloc[:, :-1].values\n",
    "y = dataset.iloc[:, -1].values"
   ]
  },
  {
   "cell_type": "code",
   "execution_count": 139,
   "metadata": {},
   "outputs": [],
   "source": [
    "sklearn_lr_model = LinearRegression()"
   ]
  },
  {
   "cell_type": "code",
   "execution_count": 140,
   "metadata": {},
   "outputs": [],
   "source": [
    "X_train_sklearn, X_test_sklearn, y_train_sklearn, y_test_sklearn = train_test_split(X, y, test_size=0.2, random_state=2)"
   ]
  },
  {
   "cell_type": "code",
   "execution_count": 141,
   "metadata": {},
   "outputs": [
    {
     "data": {
      "text/plain": [
       "(80, 1)"
      ]
     },
     "execution_count": 141,
     "metadata": {},
     "output_type": "execute_result"
    }
   ],
   "source": [
    "X_train_sklearn.shape"
   ]
  },
  {
   "cell_type": "code",
   "execution_count": 142,
   "metadata": {},
   "outputs": [
    {
     "data": {
      "text/plain": [
       "LinearRegression()"
      ]
     },
     "execution_count": 142,
     "metadata": {},
     "output_type": "execute_result"
    }
   ],
   "source": [
    "sklearn_lr_model.fit(X_train_sklearn, y_train_sklearn)"
   ]
  },
  {
   "cell_type": "code",
   "execution_count": 143,
   "metadata": {},
   "outputs": [],
   "source": [
    "y_pred = sklearn_lr_model.predict(X_test_sklearn)"
   ]
  },
  {
   "cell_type": "code",
   "execution_count": 144,
   "metadata": {},
   "outputs": [
    {
     "data": {
      "image/png": "[encoded data removed]",
      "text/plain": [
       "<Figure size 432x288 with 1 Axes>"
      ]
     },
     "metadata": {
      "needs_background": "light"
     },
     "output_type": "display_data"
    }
   ],
   "source": [
    "plt.scatter(X_train_sklearn, y_train_sklearn, color = 'red')\n",
    "plt.plot(X_train_sklearn, sklearn_lr_model.predict(X_train_sklearn), color = 'blue')\n",
    "plt.xlabel('Hours of Study')\n",
    "plt.ylabel('Student Score')\n",
    "plt.show()"
   ]
  },
  {
   "cell_type": "code",
   "execution_count": 145,
   "metadata": {},
   "outputs": [
    {
     "name": "stdout",
     "output_type": "stream",
     "text": [
      "Coefficient as per sklearn model = [5.21886687], intercept = 18.753664274374675\n"
     ]
    }
   ],
   "source": [
    "w_sklearn = sklearn_lr_model.coef_\n",
    "b_sklearn = sklearn_lr_model.intercept_\n",
    "print(f\"Coefficient as per sklearn model = {w_sklearn}, intercept = {b_sklearn}\")"
   ]
  },
  {
   "cell_type": "code",
   "execution_count": 146,
   "metadata": {},
   "outputs": [
    {
     "data": {
      "text/plain": [
       "0.867192003571831"
      ]
     },
     "execution_count": 146,
     "metadata": {},
     "output_type": "execute_result"
    }
   ],
   "source": [
    "r_squared = sklearn_lr_model.score(X_test_sklearn, y_test_sklearn)\n",
    "r_squared"
   ]
  }
 ],
 "metadata": {
  "kernelspec": {
   "display_name": "Python 3",
   "language": "python",
   "name": "python3"
  },
  "language_info": {
   "codemirror_mode": {
    "name": "ipython",
    "version": 3
   },
   "file_extension": ".py",
   "mimetype": "text/x-python",
   "name": "python",
   "nbconvert_exporter": "python",
   "pygments_lexer": "ipython3",
   "version": "3.7.7"
  }
 },
 "nbformat": 4,
 "nbformat_minor": 4
}
